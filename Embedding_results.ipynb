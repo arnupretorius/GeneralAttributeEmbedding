{
 "cells": [
  {
   "cell_type": "markdown",
   "metadata": {},
   "source": [
    "# Attribute embedding using Neural Networks\n",
    "\n",
    "### This notebook demonstrates the use of learned embeddings to understand relationships between different attributes associated with movies. "
   ]
  },
  {
   "cell_type": "markdown",
   "metadata": {},
   "source": [
    "### --- Attribute Embedding ---"
   ]
  },
  {
   "cell_type": "code",
   "execution_count": 4,
   "metadata": {
    "collapsed": false
   },
   "outputs": [
    {
     "name": "stdout",
     "output_type": "stream",
     "text": [
      "--- Actors ---\n",
      "[(u'bradbird', 0.5468278527259827)]\n",
      "[(u'colinfarrell', 0.677302896976471)]\n",
      "[(u'owenwilson', 0.8045462965965271)]\n",
      "[(u'barrysonnenfeld', 0.7483898401260376)]\n",
      "[(u'timburton', 0.7376018762588501)]\n",
      "[(u'elizabethbanks', 0.6934854984283447)]\n",
      "[(u'susansarandon', 0.6847547888755798)]\n",
      "--- Genres ---\n",
      "[(u'benstiller', 0.4251762628555298)]\n",
      "[(u'crime', 0.5248401761054993)]\n",
      "[(u'williamhurt', 0.3950503468513489)]\n",
      "[(u'woodyallen', 0.47666582465171814)]\n",
      "[(u'wescraven', 0.575240969657898)]\n",
      "[(u'johnnydepp', 0.48994776606559753)]\n",
      "[(u'davidschwimmer', 0.557050883769989)]\n",
      "--- Directors ---\n",
      "[(u'harrisonford', 0.6215734481811523)]\n",
      "[(u'orsonwelles', 0.5145497918128967)]\n",
      "[(u'ridleyscott', 0.7558119893074036)]\n",
      "[(u'lindahamilton', 0.700534462928772)]\n",
      "[(u'ianmckellen', 0.7576411366462708)]\n",
      "[(u'leonardodicaprio', 0.7167000770568848)]\n",
      "[(u'samuelljackson', 0.6927003264427185)]\n"
     ]
    }
   ],
   "source": [
    "# imports\n",
    "from gensim.models.word2vec import Word2Vec\n",
    "\n",
    "# add vectors to see relationships\n",
    "w2v = Word2Vec.load_word2vec_format('attr_embedding.txt', binary=False)\n",
    "print '--- Actors ---'\n",
    "print w2v.most_similar(positive=['jackiechan'], topn=1)\n",
    "print w2v.most_similar(positive=['brucewillis'], topn=1)\n",
    "print w2v.most_similar(positive=['benstiller'], topn=1)\n",
    "print w2v.most_similar(positive=['willsmith'], topn=1)\n",
    "print w2v.most_similar(positive=['johnnydepp'], topn=1)\n",
    "print w2v.most_similar(positive=['camerondiaz'], topn=1)\n",
    "print w2v.most_similar(positive=['charlizetheron'], topn=1)\n",
    "\n",
    "print '--- Genres ---'\n",
    "print w2v.most_similar(positive=['comedy'], topn=1)\n",
    "print w2v.most_similar(positive=['action'], topn=1)\n",
    "print w2v.most_similar(positive=['drama'], topn=1)\n",
    "print w2v.most_similar(positive=['romance'], topn=1)\n",
    "print w2v.most_similar(positive=['horror'], topn=1)\n",
    "print w2v.most_similar(positive=['adventure'], topn=1)\n",
    "print w2v.most_similar(positive=['animation'], topn=1)\n",
    "\n",
    "print '--- Directors ---'\n",
    "print w2v.most_similar(positive=['stevenspielberg'], topn=1)\n",
    "print w2v.most_similar(positive=['stanleykubrick'], topn=1)\n",
    "print w2v.most_similar(positive=['christophernolan'], topn=1)\n",
    "print w2v.most_similar(positive=['jamescameron'], topn=1)\n",
    "print w2v.most_similar(positive=['peterjackson'], topn=1)\n",
    "print w2v.most_similar(positive=['martinscorsese'], topn=1)\n",
    "print w2v.most_similar(positive=['quentintarantino'], topn=1)"
   ]
  },
  {
   "cell_type": "code",
   "execution_count": 5,
   "metadata": {
    "collapsed": false
   },
   "outputs": [
    {
     "name": "stdout",
     "output_type": "stream",
     "text": [
      "[(u'jetli', 0.45532864332199097)]\n",
      "[(u'dianekeaton', 0.4479560852050781)]\n",
      "[(u'samneill', 0.501855731010437)]\n",
      "[(u'ewanmcgregor', 0.45728009939193726)]\n"
     ]
    }
   ],
   "source": [
    "# add vectors to see relationships\n",
    "print w2v.most_similar(positive=['jackiechan', 'action'], negative=['comedy'], topn=1)\n",
    "print w2v.most_similar(positive=['comedy', 'romance'], topn=1)\n",
    "print w2v.most_similar(positive=['stevenspielberg', 'horror'], topn=1)\n",
    "print w2v.most_similar(positive=['stevenspielberg', 'georgelucas'], negative=['harrisonford'], topn=1)"
   ]
  },
  {
   "cell_type": "markdown",
   "metadata": {},
   "source": [
    "### --- Movie Embedding ---"
   ]
  },
  {
   "cell_type": "code",
   "execution_count": 9,
   "metadata": {
    "collapsed": false
   },
   "outputs": [
    {
     "name": "stdout",
     "output_type": "stream",
     "text": [
      "--- Movies ---\n",
      "[('Cast Away', 0.9283027648925781)]\n",
      "[('The Dark Knight Rises', 0.9137897491455078)]\n",
      "[('Mystic River', 0.8028160929679871)]\n",
      "[('Reservoir Dogs', 0.8898608684539795)]\n",
      "[('The Curious Case of Benjamin Button', 0.811210036277771)]\n",
      "--- Movies with sequels ---\n",
      "[('Rush Hour 2', 0.890998363494873)]\n",
      "[('Die Hard 2', 0.9552138447761536)]\n",
      "[('Alien: Resurrection', 0.7708348631858826)]\n",
      "[('The Matrix Reloaded', 0.891198992729187)]\n",
      "[('Men in Black II', 0.9043750166893005)]\n"
     ]
    }
   ],
   "source": [
    "# import required modules\n",
    "from gensim.models.doc2vec import Doc2Vec\n",
    "\n",
    "# load model\n",
    "pvdbow_model = Doc2Vec.load('pvdbow_doc_embedding')\n",
    "\n",
    "print '--- Movies ---'\n",
    "print pvdbow_model.docvecs.most_similar('Forrest Gump', topn=1)\n",
    "print pvdbow_model.docvecs.most_similar('Inception', topn=1)\n",
    "print pvdbow_model.docvecs.most_similar('The Shawshank Redemption', topn=1)\n",
    "print pvdbow_model.docvecs.most_similar('Pulp Fiction', topn=1)\n",
    "print pvdbow_model.docvecs.most_similar('Fight Club', topn=1)\n",
    "\n",
    "print '--- Movies with sequels ---'\n",
    "print pvdbow_model.docvecs.most_similar('Rush Hour', topn=1)\n",
    "print pvdbow_model.docvecs.most_similar('Die Hard', topn=1)\n",
    "print pvdbow_model.docvecs.most_similar('Alien', topn=1)\n",
    "print pvdbow_model.docvecs.most_similar('The Matrix', topn=1)\n",
    "print pvdbow_model.docvecs.most_similar('Men in Black', topn=1)"
   ]
  },
  {
   "cell_type": "markdown",
   "metadata": {
    "collapsed": true
   },
   "source": [
    "### Understanding Movie Success"
   ]
  },
  {
   "cell_type": "code",
   "execution_count": 10,
   "metadata": {
    "collapsed": false
   },
   "outputs": [],
   "source": [
    "# imports\n",
    "import pandas as pd\n",
    "import numpy as np\n",
    "from sklearn.metrics.pairwise import cosine_similarity"
   ]
  },
  {
   "cell_type": "markdown",
   "metadata": {
    "collapsed": true
   },
   "source": [
    "Embedding extraction functions"
   ]
  },
  {
   "cell_type": "code",
   "execution_count": 12,
   "metadata": {
    "collapsed": false
   },
   "outputs": [],
   "source": [
    "def create_embedding_text(attribute):\n",
    "    \"\"\"\n",
    "    Creates list of entity strings, one per film.\n",
    "    :param attribute: Attribute vector (actors, directors or genres).\n",
    "    :return: List of attribute entities per film.\n",
    "    \"\"\"\n",
    "    entities = []\n",
    "    for name in attribute:\n",
    "        name = str(name)\n",
    "        split_entity = [x.strip() for x in name.split(',')]\n",
    "        remove_special = [''.join(e for e in word if e.isalnum()) for word in split_entity]\n",
    "        remove_space = [x.replace(\" \", \"\") for x in remove_special]\n",
    "        entities.append(' '.join(remove_space))\n",
    "    return entities\n",
    "\n",
    "def create_vocabulary(embedding_text):\n",
    "    \"\"\"\n",
    "    Creats vocabulary from list of text.\n",
    "    :param embedding_text: List of string separated by spaces.\n",
    "    :return: Array of unique vocabulary.\n",
    "    \"\"\"\n",
    "    vocabulary = []\n",
    "    for text in embedding_text:\n",
    "        try:\n",
    "            vocabulary.extend(text.split())\n",
    "        except AttributeError:\n",
    "            print text\n",
    "    vocabulary = np.unique(vocabulary).tolist()\n",
    "    return vocabulary\n",
    "\n",
    "def extract_doc_embeddings(model, success_labels, budget_labels):\n",
    "    \"\"\"\n",
    "    Extract document (movie title) and label (movie profit ratio) embedding vectors.\n",
    "    :param model: Trained embedding model.\n",
    "    :param success_labels: Success label names.\n",
    "    :param budget_labels: budget label names.\n",
    "    :return: Dictionaries for movie title and movie success embedding vectors.\n",
    "    \"\"\"\n",
    "    film_tags = model.docvecs.doctags.keys()\n",
    "    success_label_embeddings = {}\n",
    "    budget_label_embeddings = {}\n",
    "    for label in success_labels:\n",
    "        film_tags.remove(label)\n",
    "        success_label_embeddings[label] = model.docvecs[label]\n",
    "    for label in budget_labels:\n",
    "        film_tags.remove(label)\n",
    "        budget_label_embeddings[label] = model.docvecs[label]\n",
    "    film_embeddings = {}\n",
    "    for film in film_tags:\n",
    "        film_embeddings[film] = model.docvecs[film]\n",
    "    return film_embeddings, success_label_embeddings, budget_label_embeddings\n",
    "\n",
    "\n",
    "def extract_word_embeddings(model, names, tolow=False):\n",
    "    \"\"\"\n",
    "    Extract attribute embedding given a list of names.\n",
    "    :param model: Trained embedding model.\n",
    "    :param entity: User specified entity (actors, director of genre).\n",
    "    :param names: List of entity names.\n",
    "    :return: Dictionary of attribute embeddings.\n",
    "    \"\"\"\n",
    "    word_embeddings = {}\n",
    "    for name in names:\n",
    "        if tolow:\n",
    "            name = name.lower()\n",
    "        try:\n",
    "            word_embeddings[name] = model[name]\n",
    "        except KeyError:\n",
    "            pass\n",
    "    return word_embeddings\n",
    "\n",
    "def find_max_index(values, top_n):\n",
    "    \"\"\"\n",
    "    Find indices of N largest values in array.\n",
    "    :param values: 1-d array of values.\n",
    "    :param top_n: Number of highest values to return.\n",
    "    :return: 1-d array of indices for N largest values.\n",
    "    \"\"\"\n",
    "    return np.argsort(values, axis=None)[::-1][:top_n]\n",
    "\n",
    "def find_most_similar(embeddings, target_embedding, top_n=5):\n",
    "    \"\"\"\n",
    "    Find the N most similar embedding to a given embedding using cosine similarity.\n",
    "    :param embeddings: Embedding vectors.\n",
    "    :param target_embedding: Embedding vector from which distance should be computed.\n",
    "    :param top_n: Number of most similar embeddings that should be returned.\n",
    "    :return: 1-d array of names of the N most similar embeddings to target embedding.\n",
    "    \"\"\"\n",
    "    sims = cosine_similarity(embeddings.values(), target_embedding.reshape(1, -1))\n",
    "    top_index = find_max_index(sims, top_n)\n",
    "    return np.array(embeddings.keys())[top_index]"
   ]
  },
  {
   "cell_type": "markdown",
   "metadata": {},
   "source": [
    "Load model and extract embeddings"
   ]
  },
  {
   "cell_type": "code",
   "execution_count": 14,
   "metadata": {
    "collapsed": false
   },
   "outputs": [],
   "source": [
    "# load data and model\n",
    "movie_df = pd.read_csv('movie_data.csv')\n",
    "model = Doc2Vec.load('movie_success_embedding')\n",
    "\n",
    "# extract actor, director and genre embeddings\n",
    "word_embeddings = {}\n",
    "for name in ['actors', 'director', 'genre']:\n",
    "    word_embeddings[name] = extract_word_embeddings(model, create_vocabulary(create_embedding_text(movie_df[name])))\n",
    "    \n",
    "actor_embeddings = word_embeddings['actors']\n",
    "director_embeddings = word_embeddings['director']\n",
    "genre_embeddings = word_embeddings['genre']\n",
    "    \n",
    "film_embeddings, success_embeddings, budget_embeddings = extract_doc_embeddings(model, np.unique(movie_df['target']), np.unique(movie_df['budget']))"
   ]
  },
  {
   "cell_type": "markdown",
   "metadata": {},
   "source": [
    "Examine embeddings"
   ]
  },
  {
   "cell_type": "code",
   "execution_count": 15,
   "metadata": {
    "collapsed": false
   },
   "outputs": [
    {
     "name": "stdout",
     "output_type": "stream",
     "text": [
      "['DennisQuaid' 'JamieLeeCurtis' 'KurtRussell']\n",
      "['StevenSpielbergD' 'MartinScorseseD' 'StevenSoderberghD']\n",
      "['Documentary' 'Drama' 'Short']\n",
      "['budget_<10' 'budget_90to100' 'budget_70to80']\n",
      "['Dead Poets Society' 'Indiana Jones and the Last Crusade'\n",
      " 'Good Will Hunting']\n"
     ]
    }
   ],
   "source": [
    "# find most similar per category to profit ratio\n",
    "print find_most_similar(actor_embeddings, model.docvecs['hit'], top_n=3)\n",
    "print find_most_similar(director_embeddings, model.docvecs['hit'], top_n=3)\n",
    "print find_most_similar(genre_embeddings, model.docvecs['hit'], top_n=3)\n",
    "print find_most_similar(budget_embeddings, model.docvecs['hit'], top_n=3)\n",
    "print find_most_similar(film_embeddings, model.docvecs['hit'], top_n=3)"
   ]
  },
  {
   "cell_type": "code",
   "execution_count": null,
   "metadata": {
    "collapsed": true
   },
   "outputs": [],
   "source": []
  }
 ],
 "metadata": {
  "kernelspec": {
   "display_name": "Python 2",
   "language": "python",
   "name": "python2"
  },
  "language_info": {
   "codemirror_mode": {
    "name": "ipython",
    "version": 2
   },
   "file_extension": ".py",
   "mimetype": "text/x-python",
   "name": "python",
   "nbconvert_exporter": "python",
   "pygments_lexer": "ipython2",
   "version": "2.7.13"
  }
 },
 "nbformat": 4,
 "nbformat_minor": 2
}
